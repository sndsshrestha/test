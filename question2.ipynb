{
 "cells": [
  {
   "cell_type": "code",
   "execution_count": 16,
   "metadata": {},
   "outputs": [
    {
     "name": "stdout",
     "output_type": "stream",
     "text": [
      "[10, 20] [30, 40] [50, 60]\n"
     ]
    }
   ],
   "source": [
    "x = [[1,2],[3,4],[5,6]]\n",
    "r = []\n",
    "s = []\n",
    "t = []\n",
    "for i in x[0]:\n",
    "    r.append(i*10)\n",
    "for j in x[1]:\n",
    "    s.append(j*10)\n",
    "for k in x[2]:\n",
    "    t.append(k*10)\n",
    "print(r,s,t)"
   ]
  },
  {
   "cell_type": "code",
   "execution_count": null,
   "metadata": {},
   "outputs": [],
   "source": []
  }
 ],
 "metadata": {
  "kernelspec": {
   "display_name": "Python 3",
   "language": "python",
   "name": "python3"
  },
  "language_info": {
   "codemirror_mode": {
    "name": "ipython",
    "version": 3
   },
   "file_extension": ".py",
   "mimetype": "text/x-python",
   "name": "python",
   "nbconvert_exporter": "python",
   "pygments_lexer": "ipython3",
   "version": "3.6.5"
  }
 },
 "nbformat": 4,
 "nbformat_minor": 2
}
